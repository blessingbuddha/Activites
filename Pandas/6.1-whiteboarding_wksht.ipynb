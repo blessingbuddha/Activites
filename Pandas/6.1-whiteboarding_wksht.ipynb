{
 "cells": [
  {
   "cell_type": "markdown",
   "metadata": {},
   "source": [
    "# Interview Whiteboard Coding"
   ]
  },
  {
   "cell_type": "markdown",
   "metadata": {},
   "source": [
    "Steps for success!\n",
    "\n",
    "1. Gather requirements\n",
    "2. Break down problem\n",
    "3. Write pseudocode\n",
    "4. Code a solution\n",
    "5. Test the solution\n",
    "6. Consider changes"
   ]
  },
  {
   "cell_type": "markdown",
   "metadata": {},
   "source": [
    "### Gather Requirements"
   ]
  },
  {
   "cell_type": "markdown",
   "metadata": {},
   "source": [
    "- Asking too many questions is better than too few\n",
    "- Establish what your input and output is supposed to be\n",
    "- Find edge cases\n",
    "- Write out requirements\n",
    "- Establish programming language and expected structure\n",
    "  - Run once \"root\" code\n",
    "  - Function\n",
    "\n",
    "*The goal is the clarify the problem to the point that there are no more questions.*"
   ]
  },
  {
   "cell_type": "markdown",
   "metadata": {},
   "source": [
    "### Break Down the Problem\n"
   ]
  },
  {
   "cell_type": "markdown",
   "metadata": {},
   "source": [
    "\n",
    "- Restate the key points\n",
    "- Establish the priorities of the problems"
   ]
  },
  {
   "cell_type": "markdown",
   "metadata": {},
   "source": [
    "### Pseudocode"
   ]
  },
  {
   "cell_type": "markdown",
   "metadata": {},
   "source": [
    "- Don’t write out any code or syntax\n",
    "- Focus on structure\n",
    "- Just use plain old English, explain it to your Grandma.\n",
    "\n",
    "```\n",
    "Enter Value\n",
    "If Value greater than 10\n",
    "  Log \"Your number is greater than 10\"\n",
    "If Value less than 10\n",
    "  Log \"Your number is less than 10\"\n",
    "```"
   ]
  },
  {
   "cell_type": "markdown",
   "metadata": {},
   "source": [
    "### Write a Solution"
   ]
  },
  {
   "cell_type": "markdown",
   "metadata": {},
   "source": [
    "- Write code! Finally!!!\n",
    "- Talk with your interviewer about what you are doing\n",
    "  - THINK OUT LOUD\n",
    "- Mistakes are okay! \n",
    "- Syntax errors are NOT the end of the world!\n",
    "- Be sure to write neatly so your code can be read\n",
    "\n",
    "*If whiteboarding digitally, you should be able to drop code in a Chrome developer console and execute.*"
   ]
  },
  {
   "cell_type": "markdown",
   "metadata": {},
   "source": [
    "### Test"
   ]
  },
  {
   "cell_type": "markdown",
   "metadata": {},
   "source": [
    "- Walk through the steps of your code verbally, OUT LOUD.\n",
    "- Assign values your variables. Take us on an input’s journey!\n",
    "- Test edge cases"
   ]
  },
  {
   "cell_type": "markdown",
   "metadata": {},
   "source": [
    "### Consider Changes"
   ]
  },
  {
   "cell_type": "markdown",
   "metadata": {},
   "source": [
    "- Review and fix any bugs\n",
    "- Discuss ways to improve"
   ]
  },
  {
   "cell_type": "markdown",
   "metadata": {},
   "source": [
    "### Rules/Expectations\n"
   ]
  },
  {
   "cell_type": "markdown",
   "metadata": {},
   "source": [
    "- Do NOT search for the solution for your question.\n",
    "- You may use the curriculum or the following websites as a reference for Python\n",
    "  - https://docs.python.org/3/reference\n",
    "  - https://docs.python.org/3/library\n",
    "  - https://realpython.com/\n",
    "  - https://www.tutorialspoint.com/python3\n",
    "- A team member should present one section:\n",
    "  - Requirements clarification & questions asked\n",
    "  - Break down the problem\n",
    "  - Present the pseudocode\n",
    "  - Present the code\n",
    "  - Run through/Test the code\n",
    "- The entire class will discuss improvements & enhancements."
   ]
  },
  {
   "cell_type": "markdown",
   "metadata": {},
   "source": [
    "# Question 1"
   ]
  },
  {
   "cell_type": "markdown",
   "metadata": {},
   "source": [
    "\n",
    "Write a Python function that takes in two integers and returns their sum, unless the two integers are equal.\n",
    "\n",
    "If the two integers are equal, then return three times their sum.\n",
    "\n",
    "Example input/output:\n",
    "```\n",
    "sum2Integers(10, 20) // --> 30\n",
    "sum2Integers(10, 10) // --> 60\n",
    "```"
   ]
  },
  {
   "cell_type": "markdown",
   "metadata": {},
   "source": [
    "## Solution 1"
   ]
  },
  {
   "cell_type": "code",
   "execution_count": 9,
   "metadata": {},
   "outputs": [],
   "source": [
    "# write psuedocode here\n",
    "# Create inputs to add in two numbers\n",
    "# Define the numbers as an integer\n",
    "# Add the two numbers and find the sum\n",
    "# With the Total, you multiply by 3 \n"
   ]
  },
  {
   "cell_type": "code",
   "execution_count": 13,
   "metadata": {},
   "outputs": [
    {
     "name": "stdout",
     "output_type": "stream",
     "text": [
      "60\n"
     ]
    }
   ],
   "source": [
    "# write code solution here\n",
    "\n",
    "num1 = input(\"Enter first number.\")\n",
    "num2 = input(\"Enter second number.\")\n",
    "\n",
    "num1 = int(num1)\n",
    "num2 = int(num2)\n",
    "\n",
    "sum = (num1 + num2)\n",
    "\n",
    "total = (sum * 3)\n",
    "\n",
    "\n",
    "if num1 != num2:\n",
    "    print(num1+num2)\n",
    "else: \n",
    "    num1 == num2\n",
    "    print((num1 + num2) * 3)\n"
   ]
  },
  {
   "cell_type": "markdown",
   "metadata": {},
   "source": [
    "# Question 2\n"
   ]
  },
  {
   "cell_type": "markdown",
   "metadata": {},
   "source": [
    "\n",
    "Write a Python function that takes in a list integers and returns the integer with the highest value.\n",
    "\n",
    "(Do NOT use max()!!!)\n",
    "\n",
    "Example:\n",
    "```\n",
    "findHighest([4, 1, -3]) // --> 4\n",
    "```\n"
   ]
  },
  {
   "cell_type": "markdown",
   "metadata": {},
   "source": [
    "### Solution "
   ]
  },
  {
   "cell_type": "code",
   "execution_count": 1,
   "metadata": {},
   "outputs": [
    {
     "name": "stdout",
     "output_type": "stream",
     "text": [
      "15\n"
     ]
    }
   ],
   "source": [
    "# forbidden solution\n",
    "\n",
    "print(max(5, 15, 8, 11)) # Print the max results"
   ]
  },
  {
   "cell_type": "code",
   "execution_count": null,
   "metadata": {},
   "outputs": [],
   "source": [
    "# write psuedocode here\n",
    "\n",
    "# 1. Create a list of numbers: e.g., numbers set = [5, 15, 8, 11].\n",
    "# 2. Find the variable that's the first number in the list: e.g., max value = numbers[0].\n",
    "# 3. Iterate through the list of numbers using a loop:\n",
    "#       -Check if the current number is greater than the current max_value.\n",
    "#       -If it is, update max value to the current number.\n",
    "# 4. After the loop has finished, max value will contain the maximum value in the list.\n",
    "# 5. Print max value, which is the maximum value among the numbers in the list."
   ]
  },
  {
   "cell_type": "code",
   "execution_count": 8,
   "metadata": {},
   "outputs": [
    {
     "name": "stdout",
     "output_type": "stream",
     "text": [
      "15\n"
     ]
    }
   ],
   "source": [
    "# write solution here\n",
    "\n",
    "set = [5, 15, 8, 11]\n",
    "max_value = set[0] \n",
    "\n",
    "for number in set:\n",
    "    if number > max_value:\n",
    "        max_value = number\n",
    "\n",
    "print(max_value)"
   ]
  },
  {
   "cell_type": "markdown",
   "metadata": {},
   "source": [
    "# Question 3\n"
   ]
  },
  {
   "cell_type": "markdown",
   "metadata": {},
   "source": [
    "\n",
    "Write a function that generates a random number between 0-10.\n",
    "\n",
    "If the number is greater than 5, print “{number} is greater than five!”.\n",
    "\n",
    "If it is less than 5, print “{number} is less than five!”\n",
    "\n",
    "> Question that should be asked:  \n",
    "> What should happen if the number equals five?\n",
    "\n",
    "Example:\n",
    "```\n",
    "isFive()\n",
    "```"
   ]
  },
  {
   "cell_type": "markdown",
   "metadata": {},
   "source": [
    "### Solution "
   ]
  },
  {
   "cell_type": "code",
   "execution_count": null,
   "metadata": {},
   "outputs": [],
   "source": [
    "# write psuedocode here\n",
    "\n",
    "# 1. using module - random.randrange to select the number between 1-10\n",
    "# 2. use conditional statements if to check if the number is greater than 5, less than 5 or equals to 5 and print appropriate statements\n",
    "# 3. run code to create number"
   ]
  },
  {
   "cell_type": "code",
   "execution_count": 54,
   "metadata": {},
   "outputs": [
    {
     "name": "stdout",
     "output_type": "stream",
     "text": [
      "5 is the winner!\n"
     ]
    }
   ],
   "source": [
    "# write solution here \n",
    "\n",
    "import random\n",
    "def isFive():\n",
    "\n",
    "    isFive = random.randrange(0, 10)  \n",
    "    if isFive > 5:\n",
    "        print(f\"{isFive} is greater than five!\")\n",
    "    elif isFive < 5:\n",
    "        print(f\"{isFive} is less than five!\")\n",
    "    else:\n",
    "        print(f\"{isFive} is the winner!\")\n",
    "\n",
    "isFive()\n"
   ]
  },
  {
   "cell_type": "markdown",
   "metadata": {},
   "source": [
    "# Question 4\n"
   ]
  },
  {
   "cell_type": "markdown",
   "metadata": {},
   "source": [
    "\n",
    "Write a Python function that counts the number of vowels in a string.\n",
    "\n",
    "The vowels are \"a\", \"e\", \"i\", \"o\" & \"u\"\n",
    "\n",
    "Example:\n",
    "```\n",
    "countVowels('hello') // --> 2\n",
    "countVowels('why') // --> 0\n",
    "```"
   ]
  },
  {
   "cell_type": "markdown",
   "metadata": {},
   "source": [
    "### Solution"
   ]
  },
  {
   "cell_type": "code",
   "execution_count": null,
   "metadata": {},
   "outputs": [],
   "source": [
    "# Create inputs for sentence to be entered.\n",
    "# Create variable with all vowels.\n",
    "# Create for loop to count for the characters in the string.\n",
    "# Checking the len of the string.\n",
    "# Create for loop to check vowels in the string.\n",
    "# Print them all."
   ]
  },
  {
   "cell_type": "code",
   "execution_count": 36,
   "metadata": {},
   "outputs": [
    {
     "name": "stdout",
     "output_type": "stream",
     "text": [
      "hi there\n",
      "The characters in the string is  8\n",
      "checking with Len:  8\n",
      "i e e "
     ]
    }
   ],
   "source": [
    "# write solution here\n",
    "\n",
    "countVowels = input ('Enter some sentence: ')\n",
    "count = 0\n",
    "vowels = \"aeiou\"\n",
    "\n",
    "print(countVowels)\n",
    "\n",
    "for i in countVowels:\n",
    "    count += 1\n",
    "print(\"The characters in the string is \", count)\n",
    "\n",
    "print(\"checking with Len: \", len(countVowels))\n",
    "\n",
    "for letters in countVowels:\n",
    "    if letters in vowels:\n",
    "        print(letters,  end = \" \")\n",
    "\n"
   ]
  },
  {
   "cell_type": "code",
   "execution_count": null,
   "metadata": {},
   "outputs": [],
   "source": [
    "# Get the input string from the user\n",
    "# Print the input statement\n",
    "# Call the function to count vowels\n",
    "# Print the number of vowels and the length of the input statement"
   ]
  },
  {
   "cell_type": "code",
   "execution_count": 55,
   "metadata": {},
   "outputs": [
    {
     "name": "stdout",
     "output_type": "stream",
     "text": [
      "You entered: Hello World?!\n",
      "Number of vowels in the string: 3\n",
      "Length of the statement: 13\n"
     ]
    }
   ],
   "source": [
    "def countVowels(i):\n",
    "    count = 0\n",
    "    vowels = \"aeiou\"\n",
    "    \n",
    "    for char in i:\n",
    "        if char in vowels:\n",
    "            count += 1 \n",
    "    return count\n",
    "\n",
    "\n",
    "string = input(\"Enter a string: \")\n",
    "print(\"You entered:\", string)\n",
    "\n",
    "vowel_count = countVowels(string)\n",
    "\n",
    "print(\"Number of vowels in the string:\", vowel_count)\n",
    "print(\"Length of the statement:\", len(string))"
   ]
  },
  {
   "cell_type": "markdown",
   "metadata": {},
   "source": [
    "# Question 5\n"
   ]
  },
  {
   "cell_type": "markdown",
   "metadata": {},
   "source": [
    "\n",
    "Write a Python function that determines if a string is a palindrome.\n",
    "\n",
    "A palindrome is a string that is the same forward and backwards.\n",
    "\n",
    "Example:\n",
    "```\n",
    "isPalindrome('racecar') // --> true\n",
    "isPalindrome('table') // --> false\n",
    "```"
   ]
  },
  {
   "cell_type": "markdown",
   "metadata": {},
   "source": [
    "### Solution "
   ]
  },
  {
   "cell_type": "code",
   "execution_count": null,
   "metadata": {},
   "outputs": [],
   "source": [
    "# write psuedocode here\n",
    "\n",
    "# Define a function isPalindrome that takes a string as input.\n",
    "# Check if the modified string is equal to its reverse.\n",
    "# Return True if it is, indicating that the string is a palindrome; otherwise, return False.\n",
    "# Compare the original string to its reverse\n",
    "# Test the function"
   ]
  },
  {
   "cell_type": "code",
   "execution_count": 50,
   "metadata": {},
   "outputs": [
    {
     "name": "stdout",
     "output_type": "stream",
     "text": [
      "You enterd:  racecar\n",
      "Your word spelled backwards comes back as:  True\n"
     ]
    }
   ],
   "source": [
    "# write solution here \n",
    "\n",
    "sentence = input('Enter a word for a Palindrome test.')\n",
    "def isPalindrome(string):\n",
    "    return string == string[::-1]\n",
    "\n",
    "# print(isPalindrome('racecar'))  \n",
    "# print(isPalindrome('table'))\n",
    "# print(isPalindrome('elephant'))    \n",
    "\n",
    "print('You enterd: ', sentence)\n",
    "print('Your word spelled backwards comes back as: ', isPalindrome(sentence))"
   ]
  },
  {
   "cell_type": "markdown",
   "metadata": {},
   "source": [
    "# Bonus Questions/Activities"
   ]
  },
  {
   "cell_type": "markdown",
   "metadata": {},
   "source": [
    "1. Write a Python program that iterates the integers from 1 to 50. For multiples of three print \"Fizz\" instead of the number and for multiples of five print \"Buzz\". For numbers that are multiples of three and five, print \"FizzBuzz\"."
   ]
  },
  {
   "cell_type": "markdown",
   "metadata": {},
   "source": [
    "2. Create a simple calculator that can perform basic arithmetic operations (addition, subtraction, multiplication and division) on two numbers. The program should take user input for both numbers and the desired operation. The result of the operation will be printed on the screen.  "
   ]
  },
  {
   "cell_type": "markdown",
   "metadata": {},
   "source": [
    "3. Given the participants' score sheet for your University Sports Day, you are required to find the runner-up score. You are given  scores. Store them in a list and find the score of the runner-up. Given list is [2,3,6,6,5] . The maximum score is 6, second maximum is 5. Hence, we print 5 as the runner-up score."
   ]
  },
  {
   "cell_type": "markdown",
   "metadata": {},
   "source": [
    "| Operator | Name | Example |\n",
    "|----|----|----|\n",
    "| == | Equal * | a == b |\n",
    "| != | Not Equal | a != b |\n",
    "| > | Greater Than | a > b |\n",
    "| < | Less Than | a < b |\n",
    "| >= | Greater than OR equal to | a >= b |\n",
    "| <= | Less than OR equal to | a <= b |"
   ]
  },
  {
   "cell_type": "code",
   "execution_count": 47,
   "metadata": {},
   "outputs": [
    {
     "name": "stdout",
     "output_type": "stream",
     "text": [
      "1\n",
      "2\n",
      "Fizz\n",
      "4\n",
      "Buzz\n",
      "Fizz\n",
      "7\n",
      "8\n",
      "Fizz\n",
      "Buzz\n",
      "11\n",
      "Fizz\n",
      "13\n",
      "14\n",
      "FizzBuzz\n",
      "16\n",
      "17\n",
      "Fizz\n",
      "19\n",
      "Buzz\n",
      "Fizz\n",
      "22\n",
      "23\n",
      "Fizz\n",
      "Buzz\n",
      "26\n",
      "Fizz\n",
      "28\n",
      "29\n",
      "FizzBuzz\n",
      "31\n",
      "32\n",
      "Fizz\n",
      "34\n",
      "Buzz\n",
      "Fizz\n",
      "37\n",
      "38\n",
      "Fizz\n",
      "Buzz\n",
      "41\n",
      "Fizz\n",
      "43\n",
      "44\n",
      "FizzBuzz\n",
      "46\n",
      "47\n",
      "Fizz\n",
      "49\n",
      "Buzz\n"
     ]
    }
   ],
   "source": [
    "for num in range(1, 51):\n",
    "    if num % 3 == 0 and num % 5 == 0:\n",
    "        print(\"FizzBuzz\")\n",
    "    elif num % 3 == 0:\n",
    "        print(\"Fizz\")\n",
    "    elif num % 5 == 0:\n",
    "        print(\"Buzz\")\n",
    "    else:\n",
    "        print(num)"
   ]
  },
  {
   "cell_type": "markdown",
   "metadata": {},
   "source": []
  }
 ],
 "metadata": {
  "kernelspec": {
   "display_name": "base",
   "language": "python",
   "name": "python3"
  },
  "language_info": {
   "codemirror_mode": {
    "name": "ipython",
    "version": 3
   },
   "file_extension": ".py",
   "mimetype": "text/x-python",
   "name": "python",
   "nbconvert_exporter": "python",
   "pygments_lexer": "ipython3",
   "version": "3.11.5"
  }
 },
 "nbformat": 4,
 "nbformat_minor": 2
}
