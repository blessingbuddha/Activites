{
 "cells": [
  {
   "cell_type": "markdown",
   "metadata": {},
   "source": [
    "# Week 7: Introduction to SQL in Data Analysis\n",
    "\n",
    "## Overview of SQL and Its Importance in Data Analysis\n",
    "This section introduces SQL (Structured Query Language), a standard programming language for managing and manipulating relational databases. It explains the significance of SQL in data analysis, particularly in retrieving and managing large datasets efficiently.\n",
    "\n",
    "## Objectives\n",
    "- Understand the basic structure and commands of SQL.\n",
    "- Learn how to write simple queries to retrieve data from a database.\n",
    "- Explore more complex SQL operations like joins, aggregations, and subqueries.\n",
    "- Practice integrating SQL with Python for data analysis.\n",
    "\n",
    "## Introduction to Relational Databases\n",
    "- Discuss the concept of relational databases and their role in storing and organizing data.\n",
    "- Introduce common relational database management systems (RDBMS) like MySQL, PostgreSQL, and SQLite.\n",
    "\n",
    "## Basic SQL Commands\n",
    "- Teach basic SQL commands like `SELECT`, `FROM`, `WHERE`, `ORDER BY`, and `LIMIT`.\n",
    "- Provide examples and exercises to practice these commands on sample datasets.\n",
    "\n",
    "## Advanced SQL Techniques\n",
    "- Delve into more complex SQL operations such as `JOIN` (INNER, LEFT, RIGHT, FULL), `GROUP BY`, and `HAVING`.\n",
    "- Explain the concept of subqueries and how they can be used to perform advanced data retrieval.\n",
    "\n",
    "## SQL Functions and Aggregation\n",
    "- Introduce SQL functions like `COUNT()`, `SUM()`, `AVG()`, `MIN()`, and `MAX()` for data aggregation.\n",
    "- Practice writing queries that utilize these functions to extract meaningful insights from data.\n",
    "\n",
    "## Integrating SQL with Python\n",
    "- Discuss methods for connecting Python with an SQL database using libraries like `sqlite3` or `SQLAlchemy`.\n",
    "- Demonstrate how to execute SQL queries from within a Python environment and how to handle the retrieved data.\n",
    "\n",
    "## Practical Exercise: SQL in the Class Project\n",
    "- Assign students to use SQL to query the database containing the datasets selected in previous weeks (e.g., Electric Vehicle Charging Data).\n",
    "- Guide students through the process of formulating relevant SQL queries to extract specific data points or summaries that could be useful for their ongoing project analysis.\n",
    "\n",
    "## SQL Best Practices\n",
    "- Cover best practices in writing efficient and readable SQL queries.\n",
    "- Discuss the importance of data security and privacy when accessing and handling database information.\n",
    "\n",
    "This week's content aims to provide students with a foundational understanding of SQL and its application in real-world data analysis scenarios, enhancing their ability to handle diverse datasets and perform complex data retrieval and manipulation tasks."
   ]
  },
  {
   "cell_type": "markdown",
   "metadata": {},
   "source": [
    "\n",
    "# Class Project Objectives:\n",
    "1. Determine the current state and potential growth of the EV market in the U.S.:\n",
    "- Is investment in EVs increasing?\n",
    "- How does the US compare to the rest of the world?\n",
    "2. Identify key areas or regions where EV charging infrastructure is lacking or in high demand:\n",
    "- What State to invest in? Why?\n",
    "- What State to AVOID investing in? Why?\n",
    "- What city to invest in? Why?\n",
    "- What city to AVOID investing in? Why?\n",
    "- Other relevant geographical features\n",
    "(OPTIONAL OBJECTIVES)\n",
    "3. Recommend the type of charging stations that might be most beneficial.\n",
    "4. Suggest average usage rates (edited) "
   ]
  }
 ],
 "metadata": {
  "language_info": {
   "name": "python"
  }
 },
 "nbformat": 4,
 "nbformat_minor": 2
}
